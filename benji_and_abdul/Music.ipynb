{
 "cells": [
  {
   "cell_type": "code",
   "execution_count": 33,
   "id": "0cbdde0e",
   "metadata": {},
   "outputs": [],
   "source": [
    "import pandas as pd\n",
    "import numpy as np\n",
    "import requests"
   ]
  },
  {
   "cell_type": "markdown",
   "id": "bc0e0ce0",
   "metadata": {},
   "source": [
    "Edit the YourLibrary.json file to remove anything other than the tracks dict before this step"
   ]
  },
  {
   "cell_type": "code",
   "execution_count": 34,
   "id": "31cc7499",
   "metadata": {
    "scrolled": true
   },
   "outputs": [],
   "source": [
    "df_lib = pd.read_json('YourLibrary0.json')\n",
    "df_lib['ID'] = df_lib['artist'] + \":\" + df_lib['track']\n",
    "new = df_lib[\"uri\"].str.split(\":\", expand = True)\n",
    "df_lib['track_uri'] = new[2]"
   ]
  },
  {
   "cell_type": "markdown",
   "id": "20d0f92f",
   "metadata": {},
   "source": [
    "Create the spotify dataframe"
   ]
  },
  {
   "cell_type": "code",
   "execution_count": 35,
   "id": "dd80956a",
   "metadata": {},
   "outputs": [],
   "source": [
    "df_spotify = pd.read_json('StreamingHistory0.json')\n",
    "df_spotify['ID'] = df_spotify['artistName'] + \":\" + df_spotify['trackName']\n",
    "df_spotify['In Library'] = np.where(df_spotify['ID'].isin(df_lib['ID'].tolist()),1,0)\n",
    "df_spotify = pd.merge(df_spotify, df_lib[['album','ID']],how='left',on=['ID'])"
   ]
  },
  {
   "cell_type": "markdown",
   "id": "d4e38cb6",
   "metadata": {},
   "source": [
    "Get the Client_ID and Client_secret from here https://developer.spotify.com/dashboard. Sign in and create a new app then you'll find the Client_ID and Client_secret."
   ]
  },
  {
   "cell_type": "code",
   "execution_count": 36,
   "id": "b6a271cd",
   "metadata": {},
   "outputs": [],
   "source": [
    "Client_ID = '627f31b5a8d740d588a087cc4b12241b'\n",
    "Client_secret = 'e6021b4f149249f5bea550510114b907'"
   ]
  },
  {
   "cell_type": "markdown",
   "id": "44bc1fac",
   "metadata": {},
   "source": [
    "Request authorization from spotify and get the access token"
   ]
  },
  {
   "cell_type": "code",
   "execution_count": 37,
   "id": "214c55c6",
   "metadata": {},
   "outputs": [],
   "source": [
    "AUTH_URL = 'https://accounts.spotify.com/api/token'\n",
    "auth_response = requests.post(AUTH_URL, {\n",
    "    'grant_type': 'client_credentials',\n",
    "    'client_id': Client_ID,\n",
    "    'client_secret': Client_secret,\n",
    "})\n",
    "auth_response_data = auth_response.json()\n",
    "access_token = auth_response_data['access_token']"
   ]
  },
  {
   "cell_type": "markdown",
   "id": "9eb16a71",
   "metadata": {},
   "source": [
    "Get the genres from spotify using the uri"
   ]
  },
  {
   "cell_type": "code",
   "execution_count": 38,
   "id": "3681c4f7",
   "metadata": {},
   "outputs": [],
   "source": [
    "headers = {'Authorization': 'Bearer {token}'.format(token=access_token)}\n",
    "BASE_URL = 'https://api.spotify.com/v1/'\n",
    "\n",
    "dict_genre = {}\n",
    "track_uris = df_lib['track_uri'].to_list()\n",
    "for t_uri in track_uris:\n",
    "    \n",
    "    dict_genre[t_uri] = {'artist_uri': \"\", \"genres\":[]}\n",
    "    \n",
    "    r = requests.get(BASE_URL + 'tracks/' + t_uri, headers=headers)\n",
    "    r = r.json()\n",
    "    a_uri = r['artists'][0]['uri'].split(':')[2]\n",
    "    dict_genre[t_uri]['artist_uri'] = a_uri\n",
    "    \n",
    "    s = requests.get(BASE_URL + 'artists/' + a_uri, headers=headers)\n",
    "    s = s.json()\n",
    "    dict_genre[t_uri]['genres'] = s['genres']"
   ]
  },
  {
   "cell_type": "markdown",
   "id": "42137705",
   "metadata": {},
   "source": [
    "Put the genres in a dataframe"
   ]
  },
  {
   "cell_type": "code",
   "execution_count": 39,
   "id": "2bdace02",
   "metadata": {},
   "outputs": [
    {
     "data": {
      "text/html": [
       "<div>\n",
       "<style scoped>\n",
       "    .dataframe tbody tr th:only-of-type {\n",
       "        vertical-align: middle;\n",
       "    }\n",
       "\n",
       "    .dataframe tbody tr th {\n",
       "        vertical-align: top;\n",
       "    }\n",
       "\n",
       "    .dataframe thead th {\n",
       "        text-align: right;\n",
       "    }\n",
       "</style>\n",
       "<table border=\"1\" class=\"dataframe\">\n",
       "  <thead>\n",
       "    <tr style=\"text-align: right;\">\n",
       "      <th></th>\n",
       "      <th>track_uri</th>\n",
       "      <th>artist_uri</th>\n",
       "      <th>genres</th>\n",
       "    </tr>\n",
       "  </thead>\n",
       "  <tbody>\n",
       "    <tr>\n",
       "      <th>0</th>\n",
       "      <td>5o97IsOGSYy67xqIxSprpL</td>\n",
       "      <td>77qukKzmdI5BeMBR7WGUrN</td>\n",
       "      <td>chicago house</td>\n",
       "    </tr>\n",
       "    <tr>\n",
       "      <th>1</th>\n",
       "      <td>0e7ipj03S05BNilyu5bRzt</td>\n",
       "      <td>246dkjvS1zLTtiykXe5h60</td>\n",
       "      <td>dfw rap</td>\n",
       "    </tr>\n",
       "    <tr>\n",
       "      <th>1</th>\n",
       "      <td>0e7ipj03S05BNilyu5bRzt</td>\n",
       "      <td>246dkjvS1zLTtiykXe5h60</td>\n",
       "      <td>melodic rap</td>\n",
       "    </tr>\n",
       "    <tr>\n",
       "      <th>1</th>\n",
       "      <td>0e7ipj03S05BNilyu5bRzt</td>\n",
       "      <td>246dkjvS1zLTtiykXe5h60</td>\n",
       "      <td>rap</td>\n",
       "    </tr>\n",
       "    <tr>\n",
       "      <th>2</th>\n",
       "      <td>6GnhWMhgJb7uyiiPEiEkDA</td>\n",
       "      <td>4LLpKhyESsyAXpc4laK94U</td>\n",
       "      <td>hip hop</td>\n",
       "    </tr>\n",
       "    <tr>\n",
       "      <th>...</th>\n",
       "      <td>...</td>\n",
       "      <td>...</td>\n",
       "      <td>...</td>\n",
       "    </tr>\n",
       "    <tr>\n",
       "      <th>52</th>\n",
       "      <td>6MWtB6iiXyIwun0YzU6DFP</td>\n",
       "      <td>246dkjvS1zLTtiykXe5h60</td>\n",
       "      <td>dfw rap</td>\n",
       "    </tr>\n",
       "    <tr>\n",
       "      <th>52</th>\n",
       "      <td>6MWtB6iiXyIwun0YzU6DFP</td>\n",
       "      <td>246dkjvS1zLTtiykXe5h60</td>\n",
       "      <td>melodic rap</td>\n",
       "    </tr>\n",
       "    <tr>\n",
       "      <th>52</th>\n",
       "      <td>6MWtB6iiXyIwun0YzU6DFP</td>\n",
       "      <td>246dkjvS1zLTtiykXe5h60</td>\n",
       "      <td>rap</td>\n",
       "    </tr>\n",
       "    <tr>\n",
       "      <th>53</th>\n",
       "      <td>0ZlVUhjO8c0bOx1D2Btznf</td>\n",
       "      <td>4gzpq5DPGxSnKTe4SA8HAU</td>\n",
       "      <td>permanent wave</td>\n",
       "    </tr>\n",
       "    <tr>\n",
       "      <th>53</th>\n",
       "      <td>0ZlVUhjO8c0bOx1D2Btznf</td>\n",
       "      <td>4gzpq5DPGxSnKTe4SA8HAU</td>\n",
       "      <td>pop</td>\n",
       "    </tr>\n",
       "  </tbody>\n",
       "</table>\n",
       "<p>208 rows × 3 columns</p>\n",
       "</div>"
      ],
      "text/plain": [
       "                 track_uri              artist_uri          genres\n",
       "0   5o97IsOGSYy67xqIxSprpL  77qukKzmdI5BeMBR7WGUrN   chicago house\n",
       "1   0e7ipj03S05BNilyu5bRzt  246dkjvS1zLTtiykXe5h60         dfw rap\n",
       "1   0e7ipj03S05BNilyu5bRzt  246dkjvS1zLTtiykXe5h60     melodic rap\n",
       "1   0e7ipj03S05BNilyu5bRzt  246dkjvS1zLTtiykXe5h60             rap\n",
       "2   6GnhWMhgJb7uyiiPEiEkDA  4LLpKhyESsyAXpc4laK94U         hip hop\n",
       "..                     ...                     ...             ...\n",
       "52  6MWtB6iiXyIwun0YzU6DFP  246dkjvS1zLTtiykXe5h60         dfw rap\n",
       "52  6MWtB6iiXyIwun0YzU6DFP  246dkjvS1zLTtiykXe5h60     melodic rap\n",
       "52  6MWtB6iiXyIwun0YzU6DFP  246dkjvS1zLTtiykXe5h60             rap\n",
       "53  0ZlVUhjO8c0bOx1D2Btznf  4gzpq5DPGxSnKTe4SA8HAU  permanent wave\n",
       "53  0ZlVUhjO8c0bOx1D2Btznf  4gzpq5DPGxSnKTe4SA8HAU             pop\n",
       "\n",
       "[208 rows x 3 columns]"
      ]
     },
     "execution_count": 39,
     "metadata": {},
     "output_type": "execute_result"
    }
   ],
   "source": [
    "df_genre = pd.DataFrame.from_dict(dict_genre, orient='index')\n",
    "df_genre.insert(0, 'track_uri', df_genre.index)\n",
    "df_genre.reset_index(inplace=True, drop=True)\n",
    "df_genre = df_genre.explode('genres')\n",
    "df_genre"
   ]
  },
  {
   "cell_type": "markdown",
   "id": "d394cac7",
   "metadata": {},
   "source": [
    "Create a wordcloud of the genres"
   ]
  },
  {
   "cell_type": "code",
   "execution_count": 9,
   "id": "d6883811",
   "metadata": {},
   "outputs": [],
   "source": [
    "from pathlib import Path\n",
    "import wordcloud as wc\n",
    "import matplotlib.pyplot as plt"
   ]
  },
  {
   "cell_type": "code",
   "execution_count": 16,
   "id": "44ed48ed",
   "metadata": {},
   "outputs": [
    {
     "data": {
      "text/plain": [
       "<matplotlib.image.AxesImage at 0x195a7191040>"
      ]
     },
     "execution_count": 16,
     "metadata": {},
     "output_type": "execute_result"
    },
    {
     "data": {
      "image/png": "[encoded data removed]",
      "text/plain": [
       "<Figure size 432x288 with 1 Axes>"
      ]
     },
     "metadata": {
      "needs_background": "light"
     },
     "output_type": "display_data"
    }
   ],
   "source": [
    "genres = ' '.join(df_genre['genres'].tolist())\n",
    "cloud = wc.WordCloud()\n",
    "genre_cloud = cloud.generate(genres)\n",
    "plt.axis('off')\n",
    "plt.imshow(genre_cloud)"
   ]
  },
  {
   "cell_type": "markdown",
   "id": "b47a4ee5",
   "metadata": {},
   "source": [
    "Plot the music listening hours of the day"
   ]
  },
  {
   "cell_type": "code",
   "execution_count": 32,
   "id": "bd7e4046",
   "metadata": {},
   "outputs": [
    {
     "data": {
      "text/html": [
       "<div>\n",
       "<style scoped>\n",
       "    .dataframe tbody tr th:only-of-type {\n",
       "        vertical-align: middle;\n",
       "    }\n",
       "\n",
       "    .dataframe tbody tr th {\n",
       "        vertical-align: top;\n",
       "    }\n",
       "\n",
       "    .dataframe thead th {\n",
       "        text-align: right;\n",
       "    }\n",
       "</style>\n",
       "<table border=\"1\" class=\"dataframe\">\n",
       "  <thead>\n",
       "    <tr style=\"text-align: right;\">\n",
       "      <th></th>\n",
       "      <th>msPlayed</th>\n",
       "    </tr>\n",
       "    <tr>\n",
       "      <th>endHour</th>\n",
       "      <th></th>\n",
       "    </tr>\n",
       "  </thead>\n",
       "  <tbody>\n",
       "    <tr>\n",
       "      <th>07</th>\n",
       "      <td>8133.916667</td>\n",
       "    </tr>\n",
       "    <tr>\n",
       "      <th>22</th>\n",
       "      <td>30262.818182</td>\n",
       "    </tr>\n",
       "  </tbody>\n",
       "</table>\n",
       "</div>"
      ],
      "text/plain": [
       "             msPlayed\n",
       "endHour              \n",
       "07        8133.916667\n",
       "22       30262.818182"
      ]
     },
     "execution_count": 32,
     "metadata": {},
     "output_type": "execute_result"
    }
   ],
   "source": [
    "df_spotify['endTime'] = pd.to_datetime(df_spotify['endTime'])\n",
    "df_spotify['endHour'] = df_spotify['endTime'].dt.strftime('%H')\n",
    "\n",
    "listn_hrs = df_spotify[['endHour','msPlayed']]\n",
    "\n",
    "df_lh = listn_hrs.groupby(['endHour']).mean()\n",
    "df_lh"
   ]
  }
 ],
 "metadata": {
  "kernelspec": {
   "display_name": "Python 3",
   "language": "python",
   "name": "python3"
  },
  "language_info": {
   "codemirror_mode": {
    "name": "ipython",
    "version": 3
   },
   "file_extension": ".py",
   "mimetype": "text/x-python",
   "name": "python",
   "nbconvert_exporter": "python",
   "pygments_lexer": "ipython3",
   "version": "3.8.8"
  }
 },
 "nbformat": 4,
 "nbformat_minor": 5
}
