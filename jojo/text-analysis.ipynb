{
 "cells": [
  {
   "cell_type": "code",
   "execution_count": 11,
   "metadata": {
    "collapsed": true
   },
   "outputs": [],
   "source": [
    "import textcleaning, keepnotecleaning, tweetcleaning\n",
    "import pandas as pd\n",
    "import matplotlib.pyplot as plt\n",
    "import seaborn as sns"
   ]
  },
  {
   "cell_type": "code",
   "execution_count": 6,
   "outputs": [],
   "source": [
    "# Establishing the corpus\n",
    "texts = textcleaning.give_me_my_texts()\n",
    "notes = keepnotecleaning.give_me_my_notes()\n",
    "tweets = tweetcleaning.give_me_my_tweets()\n",
    "\n",
    "corpus = texts.append(notes).reset_index(drop=True)\n",
    "corpus = corpus.append(tweets).reset_index(drop=True)\n",
    "#corpus.to_csv(\"please_clean_me.csv\") # Unsure why the last tweet came from 201AD instead of 2018"
   ],
   "metadata": {
    "collapsed": false,
    "pycharm": {
     "name": "#%%\n"
    }
   }
  },
  {
   "cell_type": "code",
   "execution_count": 7,
   "outputs": [],
   "source": [
    "# Now we have the corpus in a dataframe; let's strip all of the text out and write it to a text file\n",
    "# We're going to need that for training our model, if we end up doing that\n",
    "\n",
    "corpus_list = corpus[\"body\"].tolist()\n",
    "textfile = open(\"corpus2.txt\", \"w\", encoding=\"utf-8\")\n",
    "for element in corpus_list:\n",
    "    textfile.write(str(element) + \"\\r\\n\") # Use double carriage return rather than just newline\n",
    "textfile.close()"
   ],
   "metadata": {
    "collapsed": false,
    "pycharm": {
     "name": "#%%\n"
    }
   }
  },
  {
   "cell_type": "code",
   "execution_count": 12,
   "outputs": [
    {
     "data": {
      "text/plain": "<Figure size 432x288 with 1 Axes>",
      "image/png": "[encoded data removed]"
     },
     "metadata": {},
     "output_type": "display_data"
    }
   ],
   "source": [
    "# Begin visualizations\n",
    "with sns.axes_style(\"whitegrid\"):\n",
    "    ax = sns.countplot(data=corpus, x=\"type\")\n",
    "    ax.set_title(\"Count of Contents of Corpus\")\n",
    "    plt.savefig(\"corpus_contents.png\")\n",
    "\n"
   ],
   "metadata": {
    "collapsed": false,
    "pycharm": {
     "name": "#%%\n"
    }
   }
  }
 ],
 "metadata": {
  "kernelspec": {
   "display_name": "Python 3",
   "language": "python",
   "name": "python3"
  },
  "language_info": {
   "codemirror_mode": {
    "name": "ipython",
    "version": 2
   },
   "file_extension": ".py",
   "mimetype": "text/x-python",
   "name": "python",
   "nbconvert_exporter": "python",
   "pygments_lexer": "ipython2",
   "version": "2.7.6"
  }
 },
 "nbformat": 4,
 "nbformat_minor": 0
}