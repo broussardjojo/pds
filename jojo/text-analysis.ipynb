{
 "cells": [
  {
   "cell_type": "code",
   "execution_count": 1,
   "metadata": {
    "collapsed": true
   },
   "outputs": [],
   "source": [
    "import textcleaning, keepnotecleaning, tweetcleaning\n",
    "import pandas as pd\n",
    "import seaborn as sns"
   ]
  },
  {
   "cell_type": "code",
   "execution_count": 2,
   "outputs": [],
   "source": [
    "# Establishing the corpus\n",
    "texts = textcleaning.give_me_my_texts()\n",
    "notes = keepnotecleaning.give_me_my_notes()\n",
    "tweets = tweetcleaning.give_me_my_tweets()\n",
    "\n",
    "corpus = texts.append(notes).reset_index(drop=True)\n",
    "corpus = corpus.append(tweets).reset_index(drop=True)\n",
    "#corpus.to_csv(\"please_clean_me.csv\") # Unsure why the last tweet came from 201AD instead of 2018"
   ],
   "metadata": {
    "collapsed": false,
    "pycharm": {
     "name": "#%%\n"
    }
   }
  },
  {
   "cell_type": "code",
   "execution_count": 3,
   "outputs": [],
   "source": [
    "# Now we have the corpus in a dataframe; let's strip all of the text out and write it to a text file\n",
    "# We're going to need that for training our model, if we end up doing that\n",
    "\n",
    "corpus_list = corpus[\"body\"].tolist()\n",
    "textfile = open(\"corpus2.txt\", \"w\", encoding=\"utf-8\")\n",
    "for element in corpus_list:\n",
    "    textfile.write(str(element) + \"\\r\\n\") # Use double carriage return rather than just newline\n",
    "textfile.close()"
   ],
   "metadata": {
    "collapsed": false,
    "pycharm": {
     "name": "#%%\n"
    }
   }
  },
  {
   "cell_type": "code",
   "execution_count": 4,
   "outputs": [
    {
     "data": {
      "text/plain": "<Figure size 432x288 with 1 Axes>",
      "image/png": "[encoded data removed]"
     },
     "metadata": {
      "needs_background": "light"
     },
     "output_type": "display_data"
    }
   ],
   "source": [
    "# Begin visualizations\n",
    "ax = sns.countplot(data=corpus, x=\"type\")\n"
   ],
   "metadata": {
    "collapsed": false,
    "pycharm": {
     "name": "#%%\n"
    }
   }
  }
 ],
 "metadata": {
  "kernelspec": {
   "display_name": "Python 3",
   "language": "python",
   "name": "python3"
  },
  "language_info": {
   "codemirror_mode": {
    "name": "ipython",
    "version": 2
   },
   "file_extension": ".py",
   "mimetype": "text/x-python",
   "name": "python",
   "nbconvert_exporter": "python",
   "pygments_lexer": "ipython2",
   "version": "2.7.6"
  }
 },
 "nbformat": 4,
 "nbformat_minor": 0
}